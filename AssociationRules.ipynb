{
 "cells": [
  {
   "cell_type": "code",
   "execution_count": 1,
   "metadata": {
    "collapsed": true
   },
   "outputs": [],
   "source": [
    "itemPath = \"association_rules_data/EB-build-goods.sql\"\n",
    "receiptspath = \"association_rules_data/75000-out1.csv\""
   ]
  },
  {
   "cell_type": "code",
   "execution_count": 2,
   "metadata": {
    "collapsed": true
   },
   "outputs": [],
   "source": [
    "with open(receiptspath, \"r\") as receiptsFile:\n",
    "    receiptsData = receiptsFile.read().split('\\n')"
   ]
  },
  {
   "cell_type": "code",
   "execution_count": 3,
   "metadata": {},
   "outputs": [
    {
     "data": {
      "text/plain": [
       "['1, 11, 21',\n",
       " '2, 7, 11, 37, 45',\n",
       " '3, 3, 33, 42',\n",
       " '4, 5, 12, 17, 47',\n",
       " '5, 6, 18, 42']"
      ]
     },
     "execution_count": 3,
     "metadata": {},
     "output_type": "execute_result"
    }
   ],
   "source": [
    "#1st col is auto_incr, and after purchased items\n",
    "receiptsData[:5]"
   ]
  },
  {
   "cell_type": "code",
   "execution_count": 4,
   "metadata": {},
   "outputs": [
    {
     "data": {
      "text/plain": [
       "75001"
      ]
     },
     "execution_count": 4,
     "metadata": {},
     "output_type": "execute_result"
    }
   ],
   "source": [
    "len(receiptsData)"
   ]
  },
  {
   "cell_type": "code",
   "execution_count": 5,
   "metadata": {
    "collapsed": true
   },
   "outputs": [],
   "source": [
    "baskets = [line.split(\", \")[1:] for line in receiptsData[0:-1]]"
   ]
  },
  {
   "cell_type": "code",
   "execution_count": 6,
   "metadata": {},
   "outputs": [
    {
     "data": {
      "text/plain": [
       "[['11', '21'],\n",
       " ['7', '11', '37', '45'],\n",
       " ['3', '33', '42'],\n",
       " ['5', '12', '17', '47'],\n",
       " ['6', '18', '42']]"
      ]
     },
     "execution_count": 6,
     "metadata": {},
     "output_type": "execute_result"
    }
   ],
   "source": [
    "baskets[:5]"
   ]
  },
  {
   "cell_type": "code",
   "execution_count": 7,
   "metadata": {},
   "outputs": [
    {
     "data": {
      "text/plain": [
       "75000"
      ]
     },
     "execution_count": 7,
     "metadata": {},
     "output_type": "execute_result"
    }
   ],
   "source": [
    "len(baskets)"
   ]
  },
  {
   "cell_type": "code",
   "execution_count": 8,
   "metadata": {
    "collapsed": true
   },
   "outputs": [],
   "source": [
    "with open(itemPath, \"r\") as itemFile:\n",
    "    lines = itemFile.read().split('\\n')"
   ]
  },
  {
   "cell_type": "code",
   "execution_count": 9,
   "metadata": {},
   "outputs": [
    {
     "data": {
      "text/plain": [
       "51"
      ]
     },
     "execution_count": 9,
     "metadata": {},
     "output_type": "execute_result"
    }
   ],
   "source": [
    "len(lines)"
   ]
  },
  {
   "cell_type": "code",
   "execution_count": 10,
   "metadata": {},
   "outputs": [
    {
     "data": {
      "text/plain": [
       "[['0', \"'Chocolate'\", \"'Cake'\", '8.95', \"'Food'\"],\n",
       " ['1', \"'Lemon'\", \"'Cake'\", '8.95', \"'Food'\"],\n",
       " ['2', \"'Casino'\", \"'Cake'\", '15.95', \"'Food'\"],\n",
       " ['3', \"'Opera'\", \"'Cake'\", '15.95', \"'Food'\"],\n",
       " ['4', \"'Strawberry'\", \"'Cake'\", '11.95', \"'Food'\"]]"
      ]
     },
     "execution_count": 10,
     "metadata": {},
     "output_type": "execute_result"
    }
   ],
   "source": [
    "items = [line.split(\"(\")[1][0:-2].split(\",\") for line in lines[0:-1]]\n",
    "items[0:5]"
   ]
  },
  {
   "cell_type": "code",
   "execution_count": 11,
   "metadata": {},
   "outputs": [
    {
     "name": "stdout",
     "output_type": "stream",
     "text": [
      "'Chocolate' 'Cake'\n"
     ]
    },
    {
     "data": {
      "text/plain": [
       "\"'Opera' 'Cake'\""
      ]
     },
     "execution_count": 11,
     "metadata": {},
     "output_type": "execute_result"
    }
   ],
   "source": [
    "itemMap = {line[0]:line[1]+\" \"+line[2] for line in items}\n",
    "print(itemMap.get('0'))\n",
    "itemMap.get('3')"
   ]
  },
  {
   "cell_type": "code",
   "execution_count": 12,
   "metadata": {
    "collapsed": true
   },
   "outputs": [],
   "source": [
    "numItems = len(items)\n",
    "numBaskets = len(baskets)"
   ]
  },
  {
   "cell_type": "code",
   "execution_count": 13,
   "metadata": {},
   "outputs": [
    {
     "data": {
      "text/plain": [
       "(50, 75000)"
      ]
     },
     "execution_count": 13,
     "metadata": {},
     "output_type": "execute_result"
    }
   ],
   "source": [
    "numItems, numBaskets"
   ]
  },
  {
   "cell_type": "code",
   "execution_count": 14,
   "metadata": {
    "collapsed": true
   },
   "outputs": [],
   "source": [
    "#basket is transaction here\n",
    "def support(itemSet):\n",
    "    basketSubset = baskets\n",
    "    for item in itemSet:\n",
    "        basketSubset = [basket for basket in basketSubset if item in basket]\n",
    "    return len(basketSubset)/numBaskets"
   ]
  },
  {
   "cell_type": "code",
   "execution_count": 15,
   "metadata": {},
   "outputs": [
    {
     "data": {
      "text/plain": [
       "0.00288"
      ]
     },
     "execution_count": 15,
     "metadata": {},
     "output_type": "execute_result"
    }
   ],
   "source": [
    "#.28% of all transactions contain both the items 2 and 24\n",
    "support(['2', '24'])"
   ]
  },
  {
   "cell_type": "markdown",
   "metadata": {},
   "source": [
    "* Find 1 item sets ------- support\n",
    "* Find 2 item sets ------- support\n",
    "* Generate 2 item rules ---- confidence\n",
    "* Find 3 item sets ------- support\n",
    "* Generate 3 item rules ---- confidence"
   ]
  },
  {
   "cell_type": "code",
   "execution_count": 16,
   "metadata": {
    "collapsed": true
   },
   "outputs": [],
   "source": [
    "#Iterate through all 1 item set\n",
    "supportItems1 = []\n",
    "minSupport = 0.01\n",
    "for item in range(numItems):\n",
    "    itemset = [str(item)]\n",
    "    if support(itemset) > minSupport:\n",
    "        supportItems1.append(item)"
   ]
  },
  {
   "cell_type": "code",
   "execution_count": 17,
   "metadata": {
    "collapsed": true
   },
   "outputs": [],
   "source": [
    "import itertools"
   ]
  },
  {
   "cell_type": "code",
   "execution_count": 18,
   "metadata": {},
   "outputs": [
    {
     "name": "stdout",
     "output_type": "stream",
     "text": [
      "(1, 2, 3)\n",
      "(1, 2, 4)\n",
      "(1, 3, 4)\n",
      "(2, 3, 4)\n"
     ]
    }
   ],
   "source": [
    "a = [1, 2, 3, 4]\n",
    "for it in itertools.combinations(a, 3):\n",
    "    print(it)"
   ]
  },
  {
   "cell_type": "code",
   "execution_count": 19,
   "metadata": {
    "collapsed": true
   },
   "outputs": [],
   "source": [
    "# i -- size of item sets in this iteration\n",
    "# supportItems -- The items from which the sets are generated\n",
    "# assocRules -- Rules generated till now -- given from confidence\n",
    "# newSupportItems -- Items left over after this iteration\n",
    "\n",
    "def aprioriIteration(i, supportItems, assocRules, newSupportItems, minSupport, minConfidence):\n",
    "    for itemset in itertools.combinations(supportItems, i):\n",
    "        itemset = list(itemset)\n",
    "        if support(itemset) > minSupport:\n",
    "            #Generate rules from each item set m.b. confidence\n",
    "            for j in range(i):\n",
    "                rule_to = itemset[j]\n",
    "                rule_from = [x for x in itemset if x!=itemset[j]]\n",
    "                confidence = support(itemset)/support(rule_from)\n",
    "                if confidence > minConfidence:\n",
    "                    assocRules.append((rule_from, rule_to))\n",
    "                    #keep track of the items in the rules for the next iteration\n",
    "                    for x in itemset:\n",
    "                        if x not in newSupportItems:\n",
    "                            newSupportItems.append(x)\n",
    "    return assocRules, newSupportItems"
   ]
  },
  {
   "cell_type": "code",
   "execution_count": 20,
   "metadata": {
    "collapsed": true
   },
   "outputs": [],
   "source": [
    "def aprioriIteration(i,supportItems,assocRules,newSupportItems,minsupport,minconfidence):\n",
    "    \n",
    "    for itemset in itertools.combinations(supportItems,i): \n",
    "        itemset = list(itemset)\n",
    "        if support(itemset)>minsupport:\n",
    "             for j in range(i):\n",
    "                rule_to = itemset[j]\n",
    "                rule_from = [x for x in itemset if x!=itemset[j]]\n",
    "                confidence=support(itemset)/support(rule_from) \n",
    "                if confidence>minconfidence:\n",
    "                    assocRules.append((rule_from,rule_to))\n",
    "                    for x in itemset:\n",
    "                        if x not in newSupportItems:\n",
    "                            newSupportItems.append(x)\n",
    "    return assocRules, newSupportItems"
   ]
  },
  {
   "cell_type": "code",
   "execution_count": 21,
   "metadata": {
    "collapsed": true
   },
   "outputs": [],
   "source": [
    "minsupport=0.01\n",
    "minconfidence=0.5\n",
    "assocRules=[]\n",
    "newSupportItems=[]\n",
    "\n",
    "assocRules, supportItems2 =  aprioriIteration(2,supportItems1,assocRules,newSupportItems,minsupport,minconfidence)"
   ]
  },
  {
   "cell_type": "code",
   "execution_count": 22,
   "metadata": {},
   "outputs": [
    {
     "data": {
      "text/plain": [
       "[]"
      ]
     },
     "execution_count": 22,
     "metadata": {},
     "output_type": "execute_result"
    }
   ],
   "source": [
    "assocRules"
   ]
  },
  {
   "cell_type": "code",
   "execution_count": 45,
   "metadata": {
    "collapsed": true
   },
   "outputs": [],
   "source": [
    "# Find 2 item sets\n",
    "minSupport = 0.01\n",
    "minConfidence = 0.5\n",
    "assocRules = [] \n",
    "newSupportItems = []\n",
    "\n",
    "assocRules, supportItem2 = aprioriIteration(2, supportItems1, assocRules, newSupportItems, minSupport, minConfidence)"
   ]
  },
  {
   "cell_type": "code",
   "execution_count": 47,
   "metadata": {},
   "outputs": [
    {
     "data": {
      "text/plain": [
       "[]"
      ]
     },
     "execution_count": 47,
     "metadata": {},
     "output_type": "execute_result"
    }
   ],
   "source": [
    "assocRules"
   ]
  },
  {
   "cell_type": "code",
   "execution_count": null,
   "metadata": {
    "collapsed": true
   },
   "outputs": [],
   "source": []
  }
 ],
 "metadata": {
  "kernelspec": {
   "display_name": "Python 3",
   "language": "python",
   "name": "python3"
  },
  "language_info": {
   "codemirror_mode": {
    "name": "ipython",
    "version": 3
   },
   "file_extension": ".py",
   "mimetype": "text/x-python",
   "name": "python",
   "nbconvert_exporter": "python",
   "pygments_lexer": "ipython3",
   "version": "3.6.3"
  }
 },
 "nbformat": 4,
 "nbformat_minor": 2
}
