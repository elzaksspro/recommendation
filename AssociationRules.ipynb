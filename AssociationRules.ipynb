{
 "cells": [
  {
   "cell_type": "code",
   "execution_count": 2,
   "metadata": {
    "collapsed": true
   },
   "outputs": [],
   "source": [
    "itemPath = \"association_rules_data/EB-build-goods.sql\"\n",
    "receiptspath = \"association_rules_data/75000-out1.csv\""
   ]
  },
  {
   "cell_type": "code",
   "execution_count": 4,
   "metadata": {
    "collapsed": true
   },
   "outputs": [],
   "source": [
    "with open(receiptspath, \"r\") as receiptsFile:\n",
    "    receiptsData = receiptsFile.read().split('\\n')"
   ]
  },
  {
   "cell_type": "code",
   "execution_count": 6,
   "metadata": {},
   "outputs": [
    {
     "data": {
      "text/plain": [
       "['1, 11, 21',\n",
       " '2, 7, 11, 37, 45',\n",
       " '3, 3, 33, 42',\n",
       " '4, 5, 12, 17, 47',\n",
       " '5, 6, 18, 42']"
      ]
     },
     "execution_count": 6,
     "metadata": {},
     "output_type": "execute_result"
    }
   ],
   "source": [
    "#1st col is auto_incr, and after purchased items\n",
    "receiptsData[:5]"
   ]
  },
  {
   "cell_type": "code",
   "execution_count": 7,
   "metadata": {},
   "outputs": [
    {
     "data": {
      "text/plain": [
       "75001"
      ]
     },
     "execution_count": 7,
     "metadata": {},
     "output_type": "execute_result"
    }
   ],
   "source": [
    "len(receiptsData)"
   ]
  },
  {
   "cell_type": "code",
   "execution_count": 9,
   "metadata": {},
   "outputs": [],
   "source": [
    "baskets = [line.split(\", \")[1:] for line in receiptsData[0:-1]]"
   ]
  },
  {
   "cell_type": "code",
   "execution_count": 14,
   "metadata": {},
   "outputs": [
    {
     "data": {
      "text/plain": [
       "[['11', '21'],\n",
       " ['7', '11', '37', '45'],\n",
       " ['3', '33', '42'],\n",
       " ['5', '12', '17', '47'],\n",
       " ['6', '18', '42']]"
      ]
     },
     "execution_count": 14,
     "metadata": {},
     "output_type": "execute_result"
    }
   ],
   "source": [
    "baskets[:5]"
   ]
  },
  {
   "cell_type": "code",
   "execution_count": 10,
   "metadata": {},
   "outputs": [
    {
     "data": {
      "text/plain": [
       "75000"
      ]
     },
     "execution_count": 10,
     "metadata": {},
     "output_type": "execute_result"
    }
   ],
   "source": [
    "len(baskets)"
   ]
  },
  {
   "cell_type": "code",
   "execution_count": 23,
   "metadata": {},
   "outputs": [],
   "source": [
    "with open(itemPath, \"r\") as itemFile:\n",
    "    lines = itemFile.read().split('\\n')"
   ]
  },
  {
   "cell_type": "code",
   "execution_count": 24,
   "metadata": {},
   "outputs": [
    {
     "data": {
      "text/plain": [
       "51"
      ]
     },
     "execution_count": 24,
     "metadata": {},
     "output_type": "execute_result"
    }
   ],
   "source": [
    "len(lines)"
   ]
  },
  {
   "cell_type": "code",
   "execution_count": 27,
   "metadata": {},
   "outputs": [
    {
     "data": {
      "text/plain": [
       "[['0', \"'Chocolate'\", \"'Cake'\", '8.95', \"'Food'\"],\n",
       " ['1', \"'Lemon'\", \"'Cake'\", '8.95', \"'Food'\"],\n",
       " ['2', \"'Casino'\", \"'Cake'\", '15.95', \"'Food'\"],\n",
       " ['3', \"'Opera'\", \"'Cake'\", '15.95', \"'Food'\"],\n",
       " ['4', \"'Strawberry'\", \"'Cake'\", '11.95', \"'Food'\"]]"
      ]
     },
     "execution_count": 27,
     "metadata": {},
     "output_type": "execute_result"
    }
   ],
   "source": [
    "items = [line.split(\"(\")[1][0:-2].split(\",\") for line in lines[0:-1]]\n",
    "items[0:5]"
   ]
  },
  {
   "cell_type": "code",
   "execution_count": 45,
   "metadata": {},
   "outputs": [
    {
     "name": "stdout",
     "output_type": "stream",
     "text": [
      "'Chocolate' 'Cake'\n"
     ]
    },
    {
     "data": {
      "text/plain": [
       "\"'Opera' 'Cake'\""
      ]
     },
     "execution_count": 45,
     "metadata": {},
     "output_type": "execute_result"
    }
   ],
   "source": [
    "itemMap = {line[0]:line[1]+\" \"+line[2] for line in items}\n",
    "print(itemMap.get('0'))\n",
    "itemMap.get('3')"
   ]
  },
  {
   "cell_type": "code",
   "execution_count": 30,
   "metadata": {
    "collapsed": true
   },
   "outputs": [],
   "source": [
    "numItems = len(items)\n",
    "numBaskets = len(baskets)"
   ]
  },
  {
   "cell_type": "code",
   "execution_count": 31,
   "metadata": {},
   "outputs": [
    {
     "data": {
      "text/plain": [
       "(50, 75000)"
      ]
     },
     "execution_count": 31,
     "metadata": {},
     "output_type": "execute_result"
    }
   ],
   "source": [
    "numItems, numBaskets"
   ]
  },
  {
   "cell_type": "code",
   "execution_count": 56,
   "metadata": {},
   "outputs": [],
   "source": [
    "#basket is transaction here\n",
    "def support(itemSet):\n",
    "    basketSubset = baskets\n",
    "    basketSubset = [basket for item in itemSet for basket in basketSubset if item in basket]\n",
    "    return len(basketSubset)/numBaskets"
   ]
  },
  {
   "cell_type": "code",
   "execution_count": 57,
   "metadata": {},
   "outputs": [
    {
     "data": {
      "text/plain": [
       "0.14302666666666666"
      ]
     },
     "execution_count": 57,
     "metadata": {},
     "output_type": "execute_result"
    }
   ],
   "source": [
    "#.28% of all transactions contain both the items 2 and 24\n",
    "support(['2', '24'])"
   ]
  },
  {
   "cell_type": "code",
   "execution_count": null,
   "metadata": {
    "collapsed": true
   },
   "outputs": [],
   "source": []
  }
 ],
 "metadata": {
  "kernelspec": {
   "display_name": "Python 3",
   "language": "python",
   "name": "python3"
  },
  "language_info": {
   "codemirror_mode": {
    "name": "ipython",
    "version": 3
   },
   "file_extension": ".py",
   "mimetype": "text/x-python",
   "name": "python",
   "nbconvert_exporter": "python",
   "pygments_lexer": "ipython3",
   "version": "3.6.3"
  }
 },
 "nbformat": 4,
 "nbformat_minor": 2
}
