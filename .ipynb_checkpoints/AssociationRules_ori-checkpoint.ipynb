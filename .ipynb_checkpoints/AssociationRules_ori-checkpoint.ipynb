{
 "cells": [
  {
   "cell_type": "code",
   "execution_count": 63,
   "metadata": {
    "collapsed": true
   },
   "outputs": [],
   "source": [
    "itemPath = \"association_rules_data/EB-build-goods.sql\"\n",
    "receiptspath = \"association_rules_data/75000-out1.csv\""
   ]
  },
  {
   "cell_type": "code",
   "execution_count": 64,
   "metadata": {},
   "outputs": [],
   "source": [
    "with open(receiptspath,\"r\") as receiptsfile:\n",
    "    receiptsdata = receiptsfile.read().split('\\n')"
   ]
  },
  {
   "cell_type": "code",
   "execution_count": 65,
   "metadata": {},
   "outputs": [
    {
     "data": {
      "text/plain": [
       "['1, 11, 21',\n",
       " '2, 7, 11, 37, 45',\n",
       " '3, 3, 33, 42',\n",
       " '4, 5, 12, 17, 47',\n",
       " '5, 6, 18, 42']"
      ]
     },
     "execution_count": 65,
     "metadata": {},
     "output_type": "execute_result"
    }
   ],
   "source": [
    "#1st col is auto_incr, and after purchased items\n",
    "receiptsData[:5]"
   ]
  },
  {
   "cell_type": "code",
   "execution_count": 66,
   "metadata": {},
   "outputs": [
    {
     "data": {
      "text/plain": [
       "75001"
      ]
     },
     "execution_count": 66,
     "metadata": {},
     "output_type": "execute_result"
    }
   ],
   "source": [
    "len(receiptsData)"
   ]
  },
  {
   "cell_type": "code",
   "execution_count": 67,
   "metadata": {
    "collapsed": true
   },
   "outputs": [],
   "source": [
    "baskets = [line.split(\", \")[1:] for line in receiptsdata[0:-1]]"
   ]
  },
  {
   "cell_type": "code",
   "execution_count": 68,
   "metadata": {},
   "outputs": [
    {
     "data": {
      "text/plain": [
       "[['11', '21'],\n",
       " ['7', '11', '37', '45'],\n",
       " ['3', '33', '42'],\n",
       " ['5', '12', '17', '47'],\n",
       " ['6', '18', '42']]"
      ]
     },
     "execution_count": 68,
     "metadata": {},
     "output_type": "execute_result"
    }
   ],
   "source": [
    "baskets[0:5]"
   ]
  },
  {
   "cell_type": "code",
   "execution_count": 69,
   "metadata": {},
   "outputs": [
    {
     "data": {
      "text/plain": [
       "75000"
      ]
     },
     "execution_count": 69,
     "metadata": {},
     "output_type": "execute_result"
    }
   ],
   "source": [
    "len(baskets)"
   ]
  },
  {
   "cell_type": "code",
   "execution_count": 72,
   "metadata": {
    "collapsed": true
   },
   "outputs": [],
   "source": [
    "with open(itempath,\"r\") as itemfile:\n",
    "    lines = itemfile.read().split('\\n')"
   ]
  },
  {
   "cell_type": "code",
   "execution_count": 73,
   "metadata": {},
   "outputs": [
    {
     "data": {
      "text/plain": [
       "51"
      ]
     },
     "execution_count": 73,
     "metadata": {},
     "output_type": "execute_result"
    }
   ],
   "source": [
    "len(lines)"
   ]
  },
  {
   "cell_type": "code",
   "execution_count": 74,
   "metadata": {},
   "outputs": [
    {
     "data": {
      "text/plain": [
       "[\"insert into goods values (0,'Chocolate','Cake',8.95,'Food');\",\n",
       " \"insert into goods values (1,'Lemon','Cake',8.95,'Food');\",\n",
       " \"insert into goods values (2,'Casino','Cake',15.95,'Food');\",\n",
       " \"insert into goods values (3,'Opera','Cake',15.95,'Food');\"]"
      ]
     },
     "execution_count": 74,
     "metadata": {},
     "output_type": "execute_result"
    }
   ],
   "source": [
    "lines[:4]"
   ]
  },
  {
   "cell_type": "code",
   "execution_count": 75,
   "metadata": {},
   "outputs": [
    {
     "data": {
      "text/plain": [
       "[['0', \"'Chocolate'\", \"'Cake'\", '8.95', \"'Food'\"],\n",
       " ['1', \"'Lemon'\", \"'Cake'\", '8.95', \"'Food'\"],\n",
       " ['2', \"'Casino'\", \"'Cake'\", '15.95', \"'Food'\"],\n",
       " ['3', \"'Opera'\", \"'Cake'\", '15.95', \"'Food'\"],\n",
       " ['4', \"'Strawberry'\", \"'Cake'\", '11.95', \"'Food'\"]]"
      ]
     },
     "execution_count": 75,
     "metadata": {},
     "output_type": "execute_result"
    }
   ],
   "source": [
    "items = [line.split(\"(\")[1][0:-2].split(\",\") for line in lines[0:-1]]\n",
    "items[0:5]"
   ]
  },
  {
   "cell_type": "code",
   "execution_count": 83,
   "metadata": {},
   "outputs": [
    {
     "name": "stdout",
     "output_type": "stream",
     "text": [
      "'Chocolate' 'Cake'\n"
     ]
    },
    {
     "data": {
      "text/plain": [
       "\"'Opera' 'Cake'\""
      ]
     },
     "execution_count": 83,
     "metadata": {},
     "output_type": "execute_result"
    }
   ],
   "source": [
    "itemMap = {line[0]:line[1]+\" \"+line[2] for line in items}\n",
    "print(itemMap.get('0'))\n",
    "itemMap.get('3')"
   ]
  },
  {
   "cell_type": "code",
   "execution_count": 106,
   "metadata": {},
   "outputs": [
    {
     "data": {
      "text/plain": [
       "{'0': \"'Chocolate' 'Cake'\",\n",
       " '1': \"'Lemon' 'Cake'\",\n",
       " '10': \"'Almond' 'Tart'\",\n",
       " '11': \"'Apple' 'Pie'\",\n",
       " '12': \"'Apple' 'Tart'\",\n",
       " '13': \"'Apricot' 'Tart'\",\n",
       " '14': \"'Berry' 'Tart'\",\n",
       " '15': \"'Blackberry' 'Tart'\",\n",
       " '16': \"'Blueberry' 'Tart'\",\n",
       " '17': \"'Chocolate' 'Tart'\",\n",
       " '18': \"'Cherry' 'Tart'\",\n",
       " '19': \"'Lemon' 'Tart'\",\n",
       " '2': \"'Casino' 'Cake'\",\n",
       " '20': \"'Pecan' 'Tart'\",\n",
       " '21': \"'Ganache' 'Cookie'\",\n",
       " '22': \"'Gongolais' 'Cookie'\",\n",
       " '23': \"'Raspberry' 'Cookie'\",\n",
       " '24': \"'Lemon' 'Cookie'\",\n",
       " '25': \"'Chocolate' 'Meringue'\",\n",
       " '26': \"'Vanilla' 'Meringue'\",\n",
       " '27': \"'Marzipan' 'Cookie'\",\n",
       " '28': \"'Tuile' 'Cookie'\",\n",
       " '29': \"'Walnut' 'Cookie'\",\n",
       " '3': \"'Opera' 'Cake'\",\n",
       " '30': \"'Almond' 'Croissant'\",\n",
       " '31': \"'Apple' 'Croissant'\",\n",
       " '32': \"'Apricot' 'Croissant'\",\n",
       " '33': \"'Cheese' 'Croissant'\",\n",
       " '34': \"'Chocolate' 'Croissant'\",\n",
       " '35': \"'Apricot' 'Danish'\",\n",
       " '36': \"'Apple' 'Danish'\",\n",
       " '37': \"'Almond' 'Twist'\",\n",
       " '38': \"'Almond' 'Bear Claw'\",\n",
       " '39': \"'Blueberry' 'Danish'\",\n",
       " '4': \"'Strawberry' 'Cake'\",\n",
       " '40': \"'Lemon' 'Lemonade'\",\n",
       " '41': \"'Raspberry' 'Lemonade'\",\n",
       " '42': \"'Orange' 'Juice'\",\n",
       " '43': \"'Green' 'Tea'\",\n",
       " '44': \"'Bottled' 'Water'\",\n",
       " '45': \"'Hot' 'Coffee'\",\n",
       " '46': \"'Chocolate' 'Coffee'\",\n",
       " '47': \"'Vanilla' 'Frappuccino'\",\n",
       " '48': \"'Cherry' 'Soda'\",\n",
       " '49': \"'Single' 'Espresso'\",\n",
       " '5': \"'Truffle' 'Cake'\",\n",
       " '6': \"'Chocolate' 'Eclair'\",\n",
       " '7': \"'Coffee' 'Eclair'\",\n",
       " '8': \"'Vanilla' 'Eclair'\",\n",
       " '9': \"'Napoleon' 'Cake'\"}"
      ]
     },
     "execution_count": 106,
     "metadata": {},
     "output_type": "execute_result"
    }
   ],
   "source": [
    "itemMap"
   ]
  },
  {
   "cell_type": "code",
   "execution_count": 77,
   "metadata": {
    "collapsed": true
   },
   "outputs": [],
   "source": [
    "numItems = len(items)\n",
    "numBaskets = len(baskets)"
   ]
  },
  {
   "cell_type": "code",
   "execution_count": 84,
   "metadata": {},
   "outputs": [
    {
     "data": {
      "text/plain": [
       "(50, 75000)"
      ]
     },
     "execution_count": 84,
     "metadata": {},
     "output_type": "execute_result"
    }
   ],
   "source": [
    "numItems, numBaskets"
   ]
  },
  {
   "cell_type": "code",
   "execution_count": 85,
   "metadata": {
    "collapsed": true
   },
   "outputs": [],
   "source": [
    "#basket is transaction here\n",
    "def support(itemset):\n",
    "    basketSubset = baskets\n",
    "    for item in itemset: \n",
    "        basketSubset = [basket for basket in basketSubset if item in basket]\n",
    "    return float(len(basketSubset))/float(numBaskets)"
   ]
  },
  {
   "cell_type": "code",
   "execution_count": 86,
   "metadata": {},
   "outputs": [
    {
     "data": {
      "text/plain": [
       "0.00288"
      ]
     },
     "execution_count": 86,
     "metadata": {},
     "output_type": "execute_result"
    }
   ],
   "source": [
    "#.28% of all transactions contain both the items 2 and 24\n",
    "support(['2','24'])"
   ]
  },
  {
   "cell_type": "markdown",
   "metadata": {},
   "source": [
    "* Find 1 item sets ------- support\n",
    "* Find 2 item sets ------- support\n",
    "* Generate 2 item rules ---- confidence\n",
    "* Find 3 item sets ------- support\n",
    "* Generate 3 item rules ---- confidence"
   ]
  },
  {
   "cell_type": "code",
   "execution_count": 87,
   "metadata": {
    "collapsed": true
   },
   "outputs": [],
   "source": [
    "supportItems1 = []\n",
    "minsupport=0.01\n",
    "for item in range(numItems):\n",
    "    itemset=[str(item)]\n",
    "    if support(itemset)>=minsupport:\n",
    "        supportItems1.append(str(item))"
   ]
  },
  {
   "cell_type": "code",
   "execution_count": 88,
   "metadata": {
    "scrolled": true
   },
   "outputs": [
    {
     "data": {
      "text/plain": [
       "['0',\n",
       " '1',\n",
       " '2',\n",
       " '3',\n",
       " '4',\n",
       " '5',\n",
       " '6',\n",
       " '7',\n",
       " '8',\n",
       " '9',\n",
       " '10',\n",
       " '11',\n",
       " '12',\n",
       " '13',\n",
       " '14',\n",
       " '15',\n",
       " '16',\n",
       " '17',\n",
       " '18',\n",
       " '19',\n",
       " '20',\n",
       " '21',\n",
       " '22',\n",
       " '23',\n",
       " '24',\n",
       " '25',\n",
       " '26',\n",
       " '27',\n",
       " '28',\n",
       " '29',\n",
       " '30',\n",
       " '31',\n",
       " '32',\n",
       " '33',\n",
       " '34',\n",
       " '35',\n",
       " '36',\n",
       " '37',\n",
       " '38',\n",
       " '39',\n",
       " '40',\n",
       " '41',\n",
       " '42',\n",
       " '43',\n",
       " '44',\n",
       " '45',\n",
       " '46',\n",
       " '47',\n",
       " '48',\n",
       " '49']"
      ]
     },
     "execution_count": 88,
     "metadata": {},
     "output_type": "execute_result"
    }
   ],
   "source": [
    "supportItems1"
   ]
  },
  {
   "cell_type": "code",
   "execution_count": 89,
   "metadata": {
    "collapsed": true
   },
   "outputs": [],
   "source": [
    "import itertools "
   ]
  },
  {
   "cell_type": "code",
   "execution_count": 93,
   "metadata": {},
   "outputs": [
    {
     "name": "stdout",
     "output_type": "stream",
     "text": [
      "(1, 2, 3)\n",
      "(1, 2, 4)\n",
      "(1, 3, 4)\n",
      "(2, 3, 4)\n"
     ]
    }
   ],
   "source": [
    "a = [1, 2, 3, 4]\n",
    "for it in itertools.combinations(a, 3):\n",
    "    print(it)"
   ]
  },
  {
   "cell_type": "code",
   "execution_count": 90,
   "metadata": {
    "collapsed": true
   },
   "outputs": [],
   "source": [
    "# i -- size of item sets in this iteration\n",
    "# supportItems -- The items from which the sets are generated\n",
    "# assocRules -- Rules generated till now -- given from confidence\n",
    "# newSupportItems -- Items left over after this iteration\n",
    "\n",
    "def aprioriIteration(i,supportItems,assocRules,newSupportItems,minsupport,minconfidence):\n",
    "    \n",
    "    for itemset in itertools.combinations(supportItems,i): \n",
    "        itemset = list(itemset)\n",
    "        if support(itemset)>minsupport:\n",
    "            #Generate rules from each item set m.b. confidence\n",
    "             for j in range(i):\n",
    "                rule_to = itemset[j]\n",
    "                rule_from = [x for x in itemset if x!=itemset[j]]\n",
    "                confidence=support(itemset)/support(rule_from) \n",
    "                if confidence>minconfidence:\n",
    "                    assocRules.append((rule_from,rule_to))\n",
    "                    #keep track of the items in the rules for the next iteration\n",
    "                    for x in itemset:\n",
    "                        if x not in newSupportItems:\n",
    "                            newSupportItems.append(x)\n",
    "    return assocRules, newSupportItems"
   ]
  },
  {
   "cell_type": "code",
   "execution_count": 99,
   "metadata": {
    "collapsed": true
   },
   "outputs": [],
   "source": [
    "# Find 2 item sets\n",
    "minsupport=0.01\n",
    "minconfidence=0.5\n",
    "assocRules=[]\n",
    "newSupportItems=[]\n",
    "\n",
    "assocRules, supportItems2 =  aprioriIteration(2,supportItems1,assocRules,newSupportItems,minsupport,minconfidence)"
   ]
  },
  {
   "cell_type": "code",
   "execution_count": 100,
   "metadata": {},
   "outputs": [
    {
     "data": {
      "text/plain": [
       "14"
      ]
     },
     "execution_count": 100,
     "metadata": {},
     "output_type": "execute_result"
    }
   ],
   "source": [
    "len(assocRules)"
   ]
  },
  {
   "cell_type": "code",
   "execution_count": 101,
   "metadata": {
    "scrolled": true
   },
   "outputs": [
    {
     "data": {
      "text/plain": [
       "[(['46'], '0'),\n",
       " (['0'], '46'),\n",
       " (['3'], '18'),\n",
       " (['3'], '35'),\n",
       " (['9'], '4'),\n",
       " (['5'], '22'),\n",
       " (['44'], '14'),\n",
       " (['32'], '16'),\n",
       " (['16'], '32'),\n",
       " (['35'], '18'),\n",
       " (['18'], '35'),\n",
       " (['28'], '27'),\n",
       " (['27'], '28'),\n",
       " (['33'], '42')]"
      ]
     },
     "execution_count": 101,
     "metadata": {},
     "output_type": "execute_result"
    }
   ],
   "source": [
    "assocRules"
   ]
  },
  {
   "cell_type": "code",
   "execution_count": 102,
   "metadata": {},
   "outputs": [
    {
     "data": {
      "text/plain": [
       "['0',\n",
       " '46',\n",
       " '3',\n",
       " '18',\n",
       " '35',\n",
       " '4',\n",
       " '9',\n",
       " '5',\n",
       " '22',\n",
       " '14',\n",
       " '44',\n",
       " '16',\n",
       " '32',\n",
       " '27',\n",
       " '28',\n",
       " '33',\n",
       " '42']"
      ]
     },
     "execution_count": 102,
     "metadata": {},
     "output_type": "execute_result"
    }
   ],
   "source": [
    "supportItems2"
   ]
  },
  {
   "cell_type": "code",
   "execution_count": 103,
   "metadata": {
    "collapsed": true
   },
   "outputs": [],
   "source": [
    "# Find 3 item sets\n",
    "assocRules, supportItems3 =  aprioriIteration(3,supportItems2,assocRules,newSupportItems,minsupport,minconfidence)"
   ]
  },
  {
   "cell_type": "code",
   "execution_count": 104,
   "metadata": {},
   "outputs": [
    {
     "data": {
      "text/plain": [
       "[(['46'], '0'),\n",
       " (['0'], '46'),\n",
       " (['3'], '18'),\n",
       " (['3'], '35'),\n",
       " (['9'], '4'),\n",
       " (['5'], '22'),\n",
       " (['44'], '14'),\n",
       " (['32'], '16'),\n",
       " (['16'], '32'),\n",
       " (['35'], '18'),\n",
       " (['18'], '35'),\n",
       " (['28'], '27'),\n",
       " (['27'], '28'),\n",
       " (['33'], '42'),\n",
       " (['18', '35'], '3'),\n",
       " (['3', '35'], '18'),\n",
       " (['3', '18'], '35')]"
      ]
     },
     "execution_count": 104,
     "metadata": {},
     "output_type": "execute_result"
    }
   ],
   "source": [
    "assocRules"
   ]
  },
  {
   "cell_type": "code",
   "execution_count": 105,
   "metadata": {},
   "outputs": [
    {
     "data": {
      "text/plain": [
       "17"
      ]
     },
     "execution_count": 105,
     "metadata": {},
     "output_type": "execute_result"
    }
   ],
   "source": [
    "len(assocRules)"
   ]
  },
  {
   "cell_type": "code",
   "execution_count": 113,
   "metadata": {
    "collapsed": true
   },
   "outputs": [],
   "source": [
    "def ruleMeta(rule):\n",
    "    rule_from = [itemMap[x] for x in rule[0]]\n",
    "    return rule_from,itemMap[rule[1]]"
   ]
  },
  {
   "cell_type": "code",
   "execution_count": 114,
   "metadata": {
    "scrolled": true
   },
   "outputs": [
    {
     "data": {
      "text/plain": [
       "[([\"'Chocolate' 'Coffee'\"], \"'Chocolate' 'Cake'\"),\n",
       " ([\"'Chocolate' 'Cake'\"], \"'Chocolate' 'Coffee'\"),\n",
       " ([\"'Opera' 'Cake'\"], \"'Cherry' 'Tart'\"),\n",
       " ([\"'Opera' 'Cake'\"], \"'Apricot' 'Danish'\"),\n",
       " ([\"'Napoleon' 'Cake'\"], \"'Strawberry' 'Cake'\"),\n",
       " ([\"'Truffle' 'Cake'\"], \"'Gongolais' 'Cookie'\"),\n",
       " ([\"'Bottled' 'Water'\"], \"'Berry' 'Tart'\"),\n",
       " ([\"'Apricot' 'Croissant'\"], \"'Blueberry' 'Tart'\"),\n",
       " ([\"'Blueberry' 'Tart'\"], \"'Apricot' 'Croissant'\"),\n",
       " ([\"'Apricot' 'Danish'\"], \"'Cherry' 'Tart'\"),\n",
       " ([\"'Cherry' 'Tart'\"], \"'Apricot' 'Danish'\"),\n",
       " ([\"'Tuile' 'Cookie'\"], \"'Marzipan' 'Cookie'\"),\n",
       " ([\"'Marzipan' 'Cookie'\"], \"'Tuile' 'Cookie'\"),\n",
       " ([\"'Cheese' 'Croissant'\"], \"'Orange' 'Juice'\"),\n",
       " ([\"'Cherry' 'Tart'\", \"'Apricot' 'Danish'\"], \"'Opera' 'Cake'\"),\n",
       " ([\"'Opera' 'Cake'\", \"'Apricot' 'Danish'\"], \"'Cherry' 'Tart'\"),\n",
       " ([\"'Opera' 'Cake'\", \"'Cherry' 'Tart'\"], \"'Apricot' 'Danish'\")]"
      ]
     },
     "execution_count": 114,
     "metadata": {},
     "output_type": "execute_result"
    }
   ],
   "source": [
    "[ruleMeta(rule) for rule in assocRules]"
   ]
  },
  {
   "cell_type": "code",
   "execution_count": null,
   "metadata": {
    "collapsed": true
   },
   "outputs": [],
   "source": []
  },
  {
   "cell_type": "code",
   "execution_count": null,
   "metadata": {
    "collapsed": true
   },
   "outputs": [],
   "source": []
  },
  {
   "cell_type": "code",
   "execution_count": null,
   "metadata": {
    "collapsed": true
   },
   "outputs": [],
   "source": []
  },
  {
   "cell_type": "code",
   "execution_count": null,
   "metadata": {
    "collapsed": true
   },
   "outputs": [],
   "source": []
  },
  {
   "cell_type": "code",
   "execution_count": null,
   "metadata": {
    "collapsed": true
   },
   "outputs": [],
   "source": []
  },
  {
   "cell_type": "code",
   "execution_count": null,
   "metadata": {
    "collapsed": true
   },
   "outputs": [],
   "source": []
  },
  {
   "cell_type": "code",
   "execution_count": null,
   "metadata": {
    "collapsed": true
   },
   "outputs": [],
   "source": []
  }
 ],
 "metadata": {
  "kernelspec": {
   "display_name": "Python 3",
   "language": "python",
   "name": "python3"
  },
  "language_info": {
   "codemirror_mode": {
    "name": "ipython",
    "version": 3
   },
   "file_extension": ".py",
   "mimetype": "text/x-python",
   "name": "python",
   "nbconvert_exporter": "python",
   "pygments_lexer": "ipython3",
   "version": "3.6.3"
  }
 },
 "nbformat": 4,
 "nbformat_minor": 1
}
