{
 "cells": [
  {
   "cell_type": "code",
   "execution_count": 18,
   "metadata": {
    "collapsed": true
   },
   "outputs": [],
   "source": [
    "import pandas as pd"
   ]
  },
  {
   "cell_type": "code",
   "execution_count": 39,
   "metadata": {
    "collapsed": true
   },
   "outputs": [],
   "source": [
    "dataFile = \"BX-CSV-Dump/BX-Book-Ratings.csv\"\n",
    "data = pd.read_csv(dataFile, sep=\";\", header=0, names=[\"user\", \"isbn\", \"rating\"], encoding = \"ISO-8859-1\")"
   ]
  },
  {
   "cell_type": "code",
   "execution_count": 20,
   "metadata": {},
   "outputs": [
    {
     "data": {
      "text/html": [
       "<div>\n",
       "<style>\n",
       "    .dataframe thead tr:only-child th {\n",
       "        text-align: right;\n",
       "    }\n",
       "\n",
       "    .dataframe thead th {\n",
       "        text-align: left;\n",
       "    }\n",
       "\n",
       "    .dataframe tbody tr th {\n",
       "        vertical-align: top;\n",
       "    }\n",
       "</style>\n",
       "<table border=\"1\" class=\"dataframe\">\n",
       "  <thead>\n",
       "    <tr style=\"text-align: right;\">\n",
       "      <th></th>\n",
       "      <th>user</th>\n",
       "      <th>isbn</th>\n",
       "      <th>rating</th>\n",
       "    </tr>\n",
       "  </thead>\n",
       "  <tbody>\n",
       "    <tr>\n",
       "      <th>0</th>\n",
       "      <td>276725</td>\n",
       "      <td>034545104X</td>\n",
       "      <td>0</td>\n",
       "    </tr>\n",
       "    <tr>\n",
       "      <th>1</th>\n",
       "      <td>276726</td>\n",
       "      <td>0155061224</td>\n",
       "      <td>5</td>\n",
       "    </tr>\n",
       "    <tr>\n",
       "      <th>2</th>\n",
       "      <td>276727</td>\n",
       "      <td>0446520802</td>\n",
       "      <td>0</td>\n",
       "    </tr>\n",
       "    <tr>\n",
       "      <th>3</th>\n",
       "      <td>276729</td>\n",
       "      <td>052165615X</td>\n",
       "      <td>3</td>\n",
       "    </tr>\n",
       "    <tr>\n",
       "      <th>4</th>\n",
       "      <td>276729</td>\n",
       "      <td>0521795028</td>\n",
       "      <td>6</td>\n",
       "    </tr>\n",
       "  </tbody>\n",
       "</table>\n",
       "</div>"
      ],
      "text/plain": [
       "     user        isbn  rating\n",
       "0  276725  034545104X       0\n",
       "1  276726  0155061224       5\n",
       "2  276727  0446520802       0\n",
       "3  276729  052165615X       3\n",
       "4  276729  0521795028       6"
      ]
     },
     "execution_count": 20,
     "metadata": {},
     "output_type": "execute_result"
    }
   ],
   "source": [
    "data.head(5)"
   ]
  },
  {
   "cell_type": "markdown",
   "metadata": {},
   "source": [
    "### Book Meta data"
   ]
  },
  {
   "cell_type": "code",
   "execution_count": 21,
   "metadata": {
    "collapsed": true
   },
   "outputs": [],
   "source": [
    "bookFile = \"BX-CSV-Dump/BX-Books.csv\"\n",
    "books = pd.read_csv(bookFile, sep=\";\", header=0, error_bad_lines=False, usecols=[0, 1, 2], index_col=0, names=[\"isbn\", \"title\", \"author\"], encoding = \"ISO-8859-1\")"
   ]
  },
  {
   "cell_type": "code",
   "execution_count": 22,
   "metadata": {},
   "outputs": [
    {
     "data": {
      "text/html": [
       "<div>\n",
       "<style>\n",
       "    .dataframe thead tr:only-child th {\n",
       "        text-align: right;\n",
       "    }\n",
       "\n",
       "    .dataframe thead th {\n",
       "        text-align: left;\n",
       "    }\n",
       "\n",
       "    .dataframe tbody tr th {\n",
       "        vertical-align: top;\n",
       "    }\n",
       "</style>\n",
       "<table border=\"1\" class=\"dataframe\">\n",
       "  <thead>\n",
       "    <tr style=\"text-align: right;\">\n",
       "      <th></th>\n",
       "      <th>title</th>\n",
       "      <th>author</th>\n",
       "    </tr>\n",
       "    <tr>\n",
       "      <th>isbn</th>\n",
       "      <th></th>\n",
       "      <th></th>\n",
       "    </tr>\n",
       "  </thead>\n",
       "  <tbody>\n",
       "    <tr>\n",
       "      <th>0195153448</th>\n",
       "      <td>Classical Mythology</td>\n",
       "      <td>Mark P. O. Morford</td>\n",
       "    </tr>\n",
       "    <tr>\n",
       "      <th>0002005018</th>\n",
       "      <td>Clara Callan</td>\n",
       "      <td>Richard Bruce Wright</td>\n",
       "    </tr>\n",
       "    <tr>\n",
       "      <th>0060973129</th>\n",
       "      <td>Decision in Normandy</td>\n",
       "      <td>Carlo D'Este</td>\n",
       "    </tr>\n",
       "    <tr>\n",
       "      <th>0374157065</th>\n",
       "      <td>Flu: The Story of the Great Influenza Pandemic...</td>\n",
       "      <td>Gina Bari Kolata</td>\n",
       "    </tr>\n",
       "    <tr>\n",
       "      <th>0393045218</th>\n",
       "      <td>The Mummies of Urumchi</td>\n",
       "      <td>E. J. W. Barber</td>\n",
       "    </tr>\n",
       "  </tbody>\n",
       "</table>\n",
       "</div>"
      ],
      "text/plain": [
       "                                                        title  \\\n",
       "isbn                                                            \n",
       "0195153448                                Classical Mythology   \n",
       "0002005018                                       Clara Callan   \n",
       "0060973129                               Decision in Normandy   \n",
       "0374157065  Flu: The Story of the Great Influenza Pandemic...   \n",
       "0393045218                             The Mummies of Urumchi   \n",
       "\n",
       "                          author  \n",
       "isbn                              \n",
       "0195153448    Mark P. O. Morford  \n",
       "0002005018  Richard Bruce Wright  \n",
       "0060973129          Carlo D'Este  \n",
       "0374157065      Gina Bari Kolata  \n",
       "0393045218       E. J. W. Barber  "
      ]
     },
     "execution_count": 22,
     "metadata": {},
     "output_type": "execute_result"
    }
   ],
   "source": [
    "books.head()"
   ]
  },
  {
   "cell_type": "code",
   "execution_count": 23,
   "metadata": {
    "collapsed": true
   },
   "outputs": [],
   "source": [
    "def bookMeta(isbn):\n",
    "    title = books.at[isbn, \"title\"]\n",
    "    author = books.at[isbn, \"author\"]\n",
    "    return title, author"
   ]
  },
  {
   "cell_type": "code",
   "execution_count": 24,
   "metadata": {
    "scrolled": true
   },
   "outputs": [
    {
     "data": {
      "text/plain": [
       "('Classical Mythology', 'Mark P. O. Morford')"
      ]
     },
     "execution_count": 24,
     "metadata": {},
     "output_type": "execute_result"
    }
   ],
   "source": [
    "bookMeta(\"0195153448\")"
   ]
  },
  {
   "cell_type": "markdown",
   "metadata": {},
   "source": [
    "#### Top N books for user"
   ]
  },
  {
   "cell_type": "code",
   "execution_count": 25,
   "metadata": {
    "collapsed": true
   },
   "outputs": [],
   "source": [
    "def faveBooks(user, N):\n",
    "    userRatings = data[data[\"user\"]==user] #Filter data relevant to user\n",
    "    sortedRatings = pd.DataFrame.sort_values(userRatings, by=['rating'], ascending=[0])[:N]\n",
    "    sortedRatings[\"title\"] = sortedRatings[\"isbn\"].apply(bookMeta)\n",
    "    return sortedRatings"
   ]
  },
  {
   "cell_type": "code",
   "execution_count": 26,
   "metadata": {
    "collapsed": true
   },
   "outputs": [],
   "source": [
    "#Considering the books which are there in the books df\n",
    "#data = data[data[\"isbn\"].isin(books.index)]"
   ]
  },
  {
   "cell_type": "code",
   "execution_count": 27,
   "metadata": {},
   "outputs": [
    {
     "data": {
      "text/html": [
       "<div>\n",
       "<style>\n",
       "    .dataframe thead tr:only-child th {\n",
       "        text-align: right;\n",
       "    }\n",
       "\n",
       "    .dataframe thead th {\n",
       "        text-align: left;\n",
       "    }\n",
       "\n",
       "    .dataframe tbody tr th {\n",
       "        vertical-align: top;\n",
       "    }\n",
       "</style>\n",
       "<table border=\"1\" class=\"dataframe\">\n",
       "  <thead>\n",
       "    <tr style=\"text-align: right;\">\n",
       "      <th></th>\n",
       "      <th>user</th>\n",
       "      <th>isbn</th>\n",
       "      <th>rating</th>\n",
       "      <th>title</th>\n",
       "    </tr>\n",
       "  </thead>\n",
       "  <tbody>\n",
       "    <tr>\n",
       "      <th>844935</th>\n",
       "      <td>204622</td>\n",
       "      <td>0671027360</td>\n",
       "      <td>10</td>\n",
       "      <td>(Angels &amp;amp; Demons, Dan Brown)</td>\n",
       "    </tr>\n",
       "    <tr>\n",
       "      <th>844926</th>\n",
       "      <td>204622</td>\n",
       "      <td>0385504209</td>\n",
       "      <td>10</td>\n",
       "      <td>(The Da Vinci Code, Dan Brown)</td>\n",
       "    </tr>\n",
       "    <tr>\n",
       "      <th>844955</th>\n",
       "      <td>204622</td>\n",
       "      <td>0967560500</td>\n",
       "      <td>10</td>\n",
       "      <td>(Natural Hormonal Enhancement, Rob Faigin)</td>\n",
       "    </tr>\n",
       "    <tr>\n",
       "      <th>844958</th>\n",
       "      <td>204622</td>\n",
       "      <td>097173660X</td>\n",
       "      <td>9</td>\n",
       "      <td>(Life After School Explained, Cap &amp;amp; Compass)</td>\n",
       "    </tr>\n",
       "    <tr>\n",
       "      <th>844920</th>\n",
       "      <td>204622</td>\n",
       "      <td>0060935464</td>\n",
       "      <td>9</td>\n",
       "      <td>(To Kill a Mockingbird, Harper Lee)</td>\n",
       "    </tr>\n",
       "  </tbody>\n",
       "</table>\n",
       "</div>"
      ],
      "text/plain": [
       "          user        isbn  rating  \\\n",
       "844935  204622  0671027360      10   \n",
       "844926  204622  0385504209      10   \n",
       "844955  204622  0967560500      10   \n",
       "844958  204622  097173660X       9   \n",
       "844920  204622  0060935464       9   \n",
       "\n",
       "                                                   title  \n",
       "844935                  (Angels &amp; Demons, Dan Brown)  \n",
       "844926                    (The Da Vinci Code, Dan Brown)  \n",
       "844955        (Natural Hormonal Enhancement, Rob Faigin)  \n",
       "844958  (Life After School Explained, Cap &amp; Compass)  \n",
       "844920               (To Kill a Mockingbird, Harper Lee)  "
      ]
     },
     "execution_count": 27,
     "metadata": {},
     "output_type": "execute_result"
    }
   ],
   "source": [
    "faveBooks(204622, 5)"
   ]
  },
  {
   "cell_type": "markdown",
   "metadata": {},
   "source": [
    "# Construct rating matrix"
   ]
  },
  {
   "cell_type": "code",
   "execution_count": 40,
   "metadata": {},
   "outputs": [
    {
     "data": {
      "text/plain": [
       "(1149780, 3)"
      ]
     },
     "execution_count": 40,
     "metadata": {},
     "output_type": "execute_result"
    }
   ],
   "source": [
    "# 1 million ratings\n",
    "data.shape"
   ]
  },
  {
   "cell_type": "markdown",
   "metadata": {},
   "source": [
    "###### Before converting data to desired matrix usersPerISBN, ISBNsPerUser"
   ]
  },
  {
   "cell_type": "code",
   "execution_count": 29,
   "metadata": {
    "collapsed": true
   },
   "outputs": [],
   "source": [
    "usersPerISBN = data.isbn.value_counts()"
   ]
  },
  {
   "cell_type": "code",
   "execution_count": 30,
   "metadata": {
    "scrolled": true
   },
   "outputs": [
    {
     "data": {
      "text/plain": [
       "0971880107    2502\n",
       "0316666343    1295\n",
       "0385504209     883\n",
       "0060928336     732\n",
       "0312195516     723\n",
       "044023722X     647\n",
       "0679781587     639\n",
       "0142001740     615\n",
       "067976402X     614\n",
       "0671027360     586\n",
       "Name: isbn, dtype: int64"
      ]
     },
     "execution_count": 30,
     "metadata": {},
     "output_type": "execute_result"
    }
   ],
   "source": [
    "#col1: isbns col2: user count\n",
    "usersPerISBN.head(10)"
   ]
  },
  {
   "cell_type": "code",
   "execution_count": 31,
   "metadata": {},
   "outputs": [
    {
     "data": {
      "text/plain": [
       "(340556,)"
      ]
     },
     "execution_count": 31,
     "metadata": {},
     "output_type": "execute_result"
    }
   ],
   "source": [
    "#These many unique isbn\n",
    "#Which means that the rating matrix will end up having these many columns\n",
    "usersPerISBN.shape"
   ]
  },
  {
   "cell_type": "code",
   "execution_count": 32,
   "metadata": {
    "collapsed": true
   },
   "outputs": [],
   "source": [
    "ISBNsPerUser = data.user.value_counts()"
   ]
  },
  {
   "cell_type": "code",
   "execution_count": 33,
   "metadata": {},
   "outputs": [
    {
     "data": {
      "text/plain": [
       "11676     13602\n",
       "198711     7550\n",
       "153662     6109\n",
       "98391      5891\n",
       "35859      5850\n",
       "212898     4785\n",
       "278418     4533\n",
       "76352      3367\n",
       "110973     3100\n",
       "235105     3067\n",
       "Name: user, dtype: int64"
      ]
     },
     "execution_count": 33,
     "metadata": {},
     "output_type": "execute_result"
    }
   ],
   "source": [
    "#col1: userId col2: isbns count\n",
    "ISBNsPerUser.head(10)"
   ]
  },
  {
   "cell_type": "code",
   "execution_count": 34,
   "metadata": {},
   "outputs": [
    {
     "data": {
      "text/plain": [
       "(105283,)"
      ]
     },
     "execution_count": 34,
     "metadata": {},
     "output_type": "execute_result"
    }
   ],
   "source": [
    "#Number of users\n",
    "#Which means that the rating matrix will end up having these many rows\n",
    "ISBNsPerUser.shape"
   ]
  },
  {
   "cell_type": "code",
   "execution_count": null,
   "metadata": {
    "collapsed": true
   },
   "outputs": [],
   "source": [
    "# 105283 x 340556\n",
    "# Resultant matrix shape"
   ]
  },
  {
   "cell_type": "code",
   "execution_count": 41,
   "metadata": {
    "scrolled": true
   },
   "outputs": [
    {
     "data": {
      "text/plain": [
       "(515060, 3)"
      ]
     },
     "execution_count": 41,
     "metadata": {},
     "output_type": "execute_result"
    }
   ],
   "source": [
    "# Take subset the data to only those ISBNs which have been read by more than 10 users\n",
    "data = data[data[\"isbn\"].isin(usersPerISBN[usersPerISBN>10].index)]\n",
    "data.shape"
   ]
  },
  {
   "cell_type": "code",
   "execution_count": 42,
   "metadata": {},
   "outputs": [
    {
     "data": {
      "text/plain": [
       "(419407, 3)"
      ]
     },
     "execution_count": 42,
     "metadata": {},
     "output_type": "execute_result"
    }
   ],
   "source": [
    "# Take subset the data to only users which have read more than 10 books\n",
    "data = data[data[\"user\"].isin(ISBNsPerUser[ISBNsPerUser>10].index)]\n",
    "data.shape"
   ]
  },
  {
   "cell_type": "code",
   "execution_count": 44,
   "metadata": {},
   "outputs": [
    {
     "data": {
      "text/plain": [
       "Index(['user', 'isbn', 'rating'], dtype='object')"
      ]
     },
     "execution_count": 44,
     "metadata": {},
     "output_type": "execute_result"
    }
   ],
   "source": [
    "data.columns"
   ]
  },
  {
   "cell_type": "code",
   "execution_count": 46,
   "metadata": {},
   "outputs": [],
   "source": [
    "userItemRatingMatrix = pd.pivot_table(data, values='rating', index=['user'], columns=['isbn'])"
   ]
  },
  {
   "cell_type": "code",
   "execution_count": 47,
   "metadata": {},
   "outputs": [
    {
     "data": {
      "text/html": [
       "<div>\n",
       "<style>\n",
       "    .dataframe thead tr:only-child th {\n",
       "        text-align: right;\n",
       "    }\n",
       "\n",
       "    .dataframe thead th {\n",
       "        text-align: left;\n",
       "    }\n",
       "\n",
       "    .dataframe tbody tr th {\n",
       "        vertical-align: top;\n",
       "    }\n",
       "</style>\n",
       "<table border=\"1\" class=\"dataframe\">\n",
       "  <thead>\n",
       "    <tr style=\"text-align: right;\">\n",
       "      <th>isbn</th>\n",
       "      <th>000000000</th>\n",
       "      <th>0002005018</th>\n",
       "      <th>0002251760</th>\n",
       "      <th>0002259001</th>\n",
       "      <th>0002259834</th>\n",
       "      <th>0002558122</th>\n",
       "      <th>0006172768</th>\n",
       "      <th>0006374921</th>\n",
       "      <th>0006475973</th>\n",
       "      <th>0006479286</th>\n",
       "      <th>...</th>\n",
       "      <th>9722015184</th>\n",
       "      <th>9722020609</th>\n",
       "      <th>9722319345</th>\n",
       "      <th>9724113361</th>\n",
       "      <th>9726106141</th>\n",
       "      <th>9726116902</th>\n",
       "      <th>9727591965</th>\n",
       "      <th>9727722458</th>\n",
       "      <th>9770390107900</th>\n",
       "      <th>9871138016</th>\n",
       "    </tr>\n",
       "    <tr>\n",
       "      <th>user</th>\n",
       "      <th></th>\n",
       "      <th></th>\n",
       "      <th></th>\n",
       "      <th></th>\n",
       "      <th></th>\n",
       "      <th></th>\n",
       "      <th></th>\n",
       "      <th></th>\n",
       "      <th></th>\n",
       "      <th></th>\n",
       "      <th></th>\n",
       "      <th></th>\n",
       "      <th></th>\n",
       "      <th></th>\n",
       "      <th></th>\n",
       "      <th></th>\n",
       "      <th></th>\n",
       "      <th></th>\n",
       "      <th></th>\n",
       "      <th></th>\n",
       "      <th></th>\n",
       "    </tr>\n",
       "  </thead>\n",
       "  <tbody>\n",
       "    <tr>\n",
       "      <th>8</th>\n",
       "      <td>NaN</td>\n",
       "      <td>5.0</td>\n",
       "      <td>NaN</td>\n",
       "      <td>NaN</td>\n",
       "      <td>NaN</td>\n",
       "      <td>NaN</td>\n",
       "      <td>NaN</td>\n",
       "      <td>NaN</td>\n",
       "      <td>NaN</td>\n",
       "      <td>NaN</td>\n",
       "      <td>...</td>\n",
       "      <td>NaN</td>\n",
       "      <td>NaN</td>\n",
       "      <td>NaN</td>\n",
       "      <td>NaN</td>\n",
       "      <td>NaN</td>\n",
       "      <td>NaN</td>\n",
       "      <td>NaN</td>\n",
       "      <td>NaN</td>\n",
       "      <td>NaN</td>\n",
       "      <td>NaN</td>\n",
       "    </tr>\n",
       "    <tr>\n",
       "      <th>99</th>\n",
       "      <td>NaN</td>\n",
       "      <td>NaN</td>\n",
       "      <td>NaN</td>\n",
       "      <td>NaN</td>\n",
       "      <td>NaN</td>\n",
       "      <td>NaN</td>\n",
       "      <td>NaN</td>\n",
       "      <td>NaN</td>\n",
       "      <td>NaN</td>\n",
       "      <td>NaN</td>\n",
       "      <td>...</td>\n",
       "      <td>NaN</td>\n",
       "      <td>NaN</td>\n",
       "      <td>NaN</td>\n",
       "      <td>NaN</td>\n",
       "      <td>NaN</td>\n",
       "      <td>NaN</td>\n",
       "      <td>NaN</td>\n",
       "      <td>NaN</td>\n",
       "      <td>NaN</td>\n",
       "      <td>NaN</td>\n",
       "    </tr>\n",
       "    <tr>\n",
       "      <th>242</th>\n",
       "      <td>NaN</td>\n",
       "      <td>NaN</td>\n",
       "      <td>NaN</td>\n",
       "      <td>NaN</td>\n",
       "      <td>NaN</td>\n",
       "      <td>NaN</td>\n",
       "      <td>NaN</td>\n",
       "      <td>NaN</td>\n",
       "      <td>NaN</td>\n",
       "      <td>NaN</td>\n",
       "      <td>...</td>\n",
       "      <td>NaN</td>\n",
       "      <td>NaN</td>\n",
       "      <td>NaN</td>\n",
       "      <td>NaN</td>\n",
       "      <td>NaN</td>\n",
       "      <td>NaN</td>\n",
       "      <td>NaN</td>\n",
       "      <td>NaN</td>\n",
       "      <td>NaN</td>\n",
       "      <td>NaN</td>\n",
       "    </tr>\n",
       "    <tr>\n",
       "      <th>243</th>\n",
       "      <td>NaN</td>\n",
       "      <td>NaN</td>\n",
       "      <td>NaN</td>\n",
       "      <td>NaN</td>\n",
       "      <td>NaN</td>\n",
       "      <td>NaN</td>\n",
       "      <td>NaN</td>\n",
       "      <td>NaN</td>\n",
       "      <td>NaN</td>\n",
       "      <td>NaN</td>\n",
       "      <td>...</td>\n",
       "      <td>NaN</td>\n",
       "      <td>NaN</td>\n",
       "      <td>NaN</td>\n",
       "      <td>NaN</td>\n",
       "      <td>NaN</td>\n",
       "      <td>NaN</td>\n",
       "      <td>NaN</td>\n",
       "      <td>NaN</td>\n",
       "      <td>NaN</td>\n",
       "      <td>NaN</td>\n",
       "    </tr>\n",
       "    <tr>\n",
       "      <th>254</th>\n",
       "      <td>NaN</td>\n",
       "      <td>NaN</td>\n",
       "      <td>NaN</td>\n",
       "      <td>NaN</td>\n",
       "      <td>NaN</td>\n",
       "      <td>NaN</td>\n",
       "      <td>NaN</td>\n",
       "      <td>NaN</td>\n",
       "      <td>NaN</td>\n",
       "      <td>NaN</td>\n",
       "      <td>...</td>\n",
       "      <td>NaN</td>\n",
       "      <td>NaN</td>\n",
       "      <td>NaN</td>\n",
       "      <td>NaN</td>\n",
       "      <td>NaN</td>\n",
       "      <td>NaN</td>\n",
       "      <td>NaN</td>\n",
       "      <td>NaN</td>\n",
       "      <td>NaN</td>\n",
       "      <td>NaN</td>\n",
       "    </tr>\n",
       "  </tbody>\n",
       "</table>\n",
       "<p>5 rows × 16162 columns</p>\n",
       "</div>"
      ],
      "text/plain": [
       "isbn  000000000  0002005018  0002251760  0002259001  0002259834  0002558122  \\\n",
       "user                                                                          \n",
       "8           NaN         5.0         NaN         NaN         NaN         NaN   \n",
       "99          NaN         NaN         NaN         NaN         NaN         NaN   \n",
       "242         NaN         NaN         NaN         NaN         NaN         NaN   \n",
       "243         NaN         NaN         NaN         NaN         NaN         NaN   \n",
       "254         NaN         NaN         NaN         NaN         NaN         NaN   \n",
       "\n",
       "isbn  0006172768  0006374921  0006475973  0006479286     ...      9722015184  \\\n",
       "user                                                     ...                   \n",
       "8            NaN         NaN         NaN         NaN     ...             NaN   \n",
       "99           NaN         NaN         NaN         NaN     ...             NaN   \n",
       "242          NaN         NaN         NaN         NaN     ...             NaN   \n",
       "243          NaN         NaN         NaN         NaN     ...             NaN   \n",
       "254          NaN         NaN         NaN         NaN     ...             NaN   \n",
       "\n",
       "isbn  9722020609  9722319345  9724113361  9726106141  9726116902  9727591965  \\\n",
       "user                                                                           \n",
       "8            NaN         NaN         NaN         NaN         NaN         NaN   \n",
       "99           NaN         NaN         NaN         NaN         NaN         NaN   \n",
       "242          NaN         NaN         NaN         NaN         NaN         NaN   \n",
       "243          NaN         NaN         NaN         NaN         NaN         NaN   \n",
       "254          NaN         NaN         NaN         NaN         NaN         NaN   \n",
       "\n",
       "isbn  9727722458  9770390107900  9871138016  \n",
       "user                                         \n",
       "8            NaN            NaN         NaN  \n",
       "99           NaN            NaN         NaN  \n",
       "242          NaN            NaN         NaN  \n",
       "243          NaN            NaN         NaN  \n",
       "254          NaN            NaN         NaN  \n",
       "\n",
       "[5 rows x 16162 columns]"
      ]
     },
     "execution_count": 47,
     "metadata": {},
     "output_type": "execute_result"
    }
   ],
   "source": [
    "userItemRatingMatrix.head()"
   ]
  },
  {
   "cell_type": "code",
   "execution_count": 71,
   "metadata": {},
   "outputs": [
    {
     "data": {
      "text/plain": [
       "11707"
      ]
     },
     "execution_count": 71,
     "metadata": {},
     "output_type": "execute_result"
    }
   ],
   "source": [
    "len(userItemRatingMatrix)"
   ]
  },
  {
   "cell_type": "markdown",
   "metadata": {},
   "source": [
    "# Find the K Nearest Neighbours"
   ]
  },
  {
   "cell_type": "code",
   "execution_count": 48,
   "metadata": {
    "collapsed": true
   },
   "outputs": [],
   "source": [
    "user1 = 204622\n",
    "user2 = 255489"
   ]
  },
  {
   "cell_type": "code",
   "execution_count": 60,
   "metadata": {},
   "outputs": [
    {
     "data": {
      "text/plain": [
       "isbn\n",
       "000000000    NaN\n",
       "0002005018   NaN\n",
       "0002251760   NaN\n",
       "0002259001   NaN\n",
       "0002259834   NaN\n",
       "Name: 204622, dtype: float64"
      ]
     },
     "execution_count": 60,
     "metadata": {},
     "output_type": "execute_result"
    }
   ],
   "source": [
    "user1Ratings = userItemRatingMatrix.transpose()[user1]\n",
    "user1Ratings.head()"
   ]
  },
  {
   "cell_type": "code",
   "execution_count": 61,
   "metadata": {
    "collapsed": true
   },
   "outputs": [],
   "source": [
    "user2Ratings = userItemRatingMatrix.transpose()[user2]"
   ]
  },
  {
   "cell_type": "code",
   "execution_count": 62,
   "metadata": {},
   "outputs": [
    {
     "data": {
      "text/plain": [
       "0.99993812646949631"
      ]
     },
     "execution_count": 62,
     "metadata": {},
     "output_type": "execute_result"
    }
   ],
   "source": [
    "# % of disagreement\n",
    "from scipy.spatial.distance import hamming\n",
    "hamming(user1Ratings, user2Ratings)"
   ]
  },
  {
   "cell_type": "code",
   "execution_count": 64,
   "metadata": {
    "collapsed": true
   },
   "outputs": [],
   "source": [
    "import numpy as np\n",
    "def distance(user1, user2):\n",
    "    try:\n",
    "        user1Ratings = userItemRatingMatrix.transpose()[user1]\n",
    "        user2Ratings = userItemRatingMatrix.transpose()[user2]\n",
    "        distance = hamming(user1Ratings, user2Ratings)\n",
    "    except:\n",
    "        distance = np.NaN\n",
    "    return distance"
   ]
  },
  {
   "cell_type": "code",
   "execution_count": 65,
   "metadata": {},
   "outputs": [
    {
     "data": {
      "text/plain": [
       "0.99993812646949631"
      ]
     },
     "execution_count": 65,
     "metadata": {},
     "output_type": "execute_result"
    }
   ],
   "source": [
    "distance(user1, user2)"
   ]
  },
  {
   "cell_type": "code",
   "execution_count": 76,
   "metadata": {},
   "outputs": [],
   "source": [
    "# Take an active user & a no. K and find the kNNs for that user\n",
    "user = 204622\n",
    "# allUsers = pd.DataFrame(userItemRatingMatrix.index)\n",
    "# print(allUsers.shape)\n",
    "# allUsers  = allUsers[allUsers.user != user] #all the users except active user\n",
    "# print(allUsers.shape)\n",
    "# allUsers.head()"
   ]
  },
  {
   "cell_type": "code",
   "execution_count": 77,
   "metadata": {},
   "outputs": [],
   "source": [
    "# allUsers[\"distance\"] = allUsers[\"user\"].apply(lambda x: distance(user, x))"
   ]
  },
  {
   "cell_type": "code",
   "execution_count": 78,
   "metadata": {},
   "outputs": [],
   "source": [
    "# K =10\n",
    "# KnearestUsers = allUsers.sort_values([\"distance\"], ascending=True)[\"user\"][:K]\n",
    "# KnearestUsers"
   ]
  },
  {
   "cell_type": "code",
   "execution_count": 79,
   "metadata": {
    "collapsed": true
   },
   "outputs": [],
   "source": [
    "def nearestNeighbour(user, K=10):\n",
    "    allUsers = pd.DataFrame(userItemRatingMatrix.index)\n",
    "    allUsers  = allUsers[allUsers.user != user] #all the users except active user\n",
    "    allUsers[\"distance\"] = allUsers[\"user\"].apply(lambda x: distance(user, x))\n",
    "    KnearestUsers = allUsers.sort_values([\"distance\"], ascending=True)[\"user\"][:K]\n",
    "    return KnearestUsers"
   ]
  },
  {
   "cell_type": "code",
   "execution_count": 80,
   "metadata": {
    "collapsed": true
   },
   "outputs": [],
   "source": [
    "KnearestUsers = nearestNeighbour(204622)"
   ]
  },
  {
   "cell_type": "code",
   "execution_count": 81,
   "metadata": {},
   "outputs": [
    {
     "data": {
      "text/plain": [
       "3509      82893\n",
       "2872      68555\n",
       "3693      87555\n",
       "1991      48046\n",
       "10582    251422\n",
       "273        7346\n",
       "620       16795\n",
       "8287     198711\n",
       "9689     232131\n",
       "5901     140036\n",
       "Name: user, dtype: int64"
      ]
     },
     "execution_count": 81,
     "metadata": {},
     "output_type": "execute_result"
    }
   ],
   "source": [
    "KnearestUsers"
   ]
  },
  {
   "cell_type": "markdown",
   "metadata": {},
   "source": [
    "## Find the top N recommendations"
   ]
  },
  {
   "cell_type": "markdown",
   "metadata": {},
   "source": [
    "###### - Average the ratings of nearest neighbours for unrated books\n",
    "###### - sort in descending order\n",
    "###### - pick the top  N"
   ]
  },
  {
   "cell_type": "code",
   "execution_count": 83,
   "metadata": {},
   "outputs": [
    {
     "data": {
      "text/html": [
       "<div>\n",
       "<style>\n",
       "    .dataframe thead tr:only-child th {\n",
       "        text-align: right;\n",
       "    }\n",
       "\n",
       "    .dataframe thead th {\n",
       "        text-align: left;\n",
       "    }\n",
       "\n",
       "    .dataframe tbody tr th {\n",
       "        vertical-align: top;\n",
       "    }\n",
       "</style>\n",
       "<table border=\"1\" class=\"dataframe\">\n",
       "  <thead>\n",
       "    <tr style=\"text-align: right;\">\n",
       "      <th>isbn</th>\n",
       "      <th>000000000</th>\n",
       "      <th>0002005018</th>\n",
       "      <th>0002251760</th>\n",
       "      <th>0002259001</th>\n",
       "      <th>0002259834</th>\n",
       "      <th>0002558122</th>\n",
       "      <th>0006172768</th>\n",
       "      <th>0006374921</th>\n",
       "      <th>0006475973</th>\n",
       "      <th>0006479286</th>\n",
       "      <th>...</th>\n",
       "      <th>9722015184</th>\n",
       "      <th>9722020609</th>\n",
       "      <th>9722319345</th>\n",
       "      <th>9724113361</th>\n",
       "      <th>9726106141</th>\n",
       "      <th>9726116902</th>\n",
       "      <th>9727591965</th>\n",
       "      <th>9727722458</th>\n",
       "      <th>9770390107900</th>\n",
       "      <th>9871138016</th>\n",
       "    </tr>\n",
       "    <tr>\n",
       "      <th>user</th>\n",
       "      <th></th>\n",
       "      <th></th>\n",
       "      <th></th>\n",
       "      <th></th>\n",
       "      <th></th>\n",
       "      <th></th>\n",
       "      <th></th>\n",
       "      <th></th>\n",
       "      <th></th>\n",
       "      <th></th>\n",
       "      <th></th>\n",
       "      <th></th>\n",
       "      <th></th>\n",
       "      <th></th>\n",
       "      <th></th>\n",
       "      <th></th>\n",
       "      <th></th>\n",
       "      <th></th>\n",
       "      <th></th>\n",
       "      <th></th>\n",
       "      <th></th>\n",
       "    </tr>\n",
       "  </thead>\n",
       "  <tbody>\n",
       "    <tr>\n",
       "      <th>7346</th>\n",
       "      <td>NaN</td>\n",
       "      <td>NaN</td>\n",
       "      <td>NaN</td>\n",
       "      <td>NaN</td>\n",
       "      <td>NaN</td>\n",
       "      <td>NaN</td>\n",
       "      <td>NaN</td>\n",
       "      <td>NaN</td>\n",
       "      <td>NaN</td>\n",
       "      <td>NaN</td>\n",
       "      <td>...</td>\n",
       "      <td>NaN</td>\n",
       "      <td>NaN</td>\n",
       "      <td>NaN</td>\n",
       "      <td>NaN</td>\n",
       "      <td>NaN</td>\n",
       "      <td>NaN</td>\n",
       "      <td>NaN</td>\n",
       "      <td>NaN</td>\n",
       "      <td>NaN</td>\n",
       "      <td>NaN</td>\n",
       "    </tr>\n",
       "    <tr>\n",
       "      <th>16795</th>\n",
       "      <td>NaN</td>\n",
       "      <td>NaN</td>\n",
       "      <td>NaN</td>\n",
       "      <td>NaN</td>\n",
       "      <td>NaN</td>\n",
       "      <td>NaN</td>\n",
       "      <td>NaN</td>\n",
       "      <td>NaN</td>\n",
       "      <td>NaN</td>\n",
       "      <td>NaN</td>\n",
       "      <td>...</td>\n",
       "      <td>NaN</td>\n",
       "      <td>NaN</td>\n",
       "      <td>NaN</td>\n",
       "      <td>NaN</td>\n",
       "      <td>NaN</td>\n",
       "      <td>NaN</td>\n",
       "      <td>NaN</td>\n",
       "      <td>NaN</td>\n",
       "      <td>NaN</td>\n",
       "      <td>NaN</td>\n",
       "    </tr>\n",
       "    <tr>\n",
       "      <th>48046</th>\n",
       "      <td>NaN</td>\n",
       "      <td>NaN</td>\n",
       "      <td>NaN</td>\n",
       "      <td>NaN</td>\n",
       "      <td>NaN</td>\n",
       "      <td>NaN</td>\n",
       "      <td>NaN</td>\n",
       "      <td>NaN</td>\n",
       "      <td>NaN</td>\n",
       "      <td>NaN</td>\n",
       "      <td>...</td>\n",
       "      <td>NaN</td>\n",
       "      <td>NaN</td>\n",
       "      <td>NaN</td>\n",
       "      <td>NaN</td>\n",
       "      <td>NaN</td>\n",
       "      <td>NaN</td>\n",
       "      <td>NaN</td>\n",
       "      <td>NaN</td>\n",
       "      <td>NaN</td>\n",
       "      <td>NaN</td>\n",
       "    </tr>\n",
       "    <tr>\n",
       "      <th>68555</th>\n",
       "      <td>NaN</td>\n",
       "      <td>NaN</td>\n",
       "      <td>NaN</td>\n",
       "      <td>NaN</td>\n",
       "      <td>NaN</td>\n",
       "      <td>NaN</td>\n",
       "      <td>NaN</td>\n",
       "      <td>NaN</td>\n",
       "      <td>NaN</td>\n",
       "      <td>NaN</td>\n",
       "      <td>...</td>\n",
       "      <td>NaN</td>\n",
       "      <td>NaN</td>\n",
       "      <td>NaN</td>\n",
       "      <td>NaN</td>\n",
       "      <td>NaN</td>\n",
       "      <td>NaN</td>\n",
       "      <td>NaN</td>\n",
       "      <td>NaN</td>\n",
       "      <td>NaN</td>\n",
       "      <td>NaN</td>\n",
       "    </tr>\n",
       "    <tr>\n",
       "      <th>82893</th>\n",
       "      <td>NaN</td>\n",
       "      <td>NaN</td>\n",
       "      <td>NaN</td>\n",
       "      <td>NaN</td>\n",
       "      <td>NaN</td>\n",
       "      <td>NaN</td>\n",
       "      <td>NaN</td>\n",
       "      <td>NaN</td>\n",
       "      <td>NaN</td>\n",
       "      <td>NaN</td>\n",
       "      <td>...</td>\n",
       "      <td>NaN</td>\n",
       "      <td>NaN</td>\n",
       "      <td>NaN</td>\n",
       "      <td>NaN</td>\n",
       "      <td>NaN</td>\n",
       "      <td>NaN</td>\n",
       "      <td>NaN</td>\n",
       "      <td>NaN</td>\n",
       "      <td>NaN</td>\n",
       "      <td>NaN</td>\n",
       "    </tr>\n",
       "    <tr>\n",
       "      <th>87555</th>\n",
       "      <td>NaN</td>\n",
       "      <td>NaN</td>\n",
       "      <td>NaN</td>\n",
       "      <td>NaN</td>\n",
       "      <td>NaN</td>\n",
       "      <td>NaN</td>\n",
       "      <td>NaN</td>\n",
       "      <td>NaN</td>\n",
       "      <td>NaN</td>\n",
       "      <td>NaN</td>\n",
       "      <td>...</td>\n",
       "      <td>NaN</td>\n",
       "      <td>NaN</td>\n",
       "      <td>NaN</td>\n",
       "      <td>NaN</td>\n",
       "      <td>NaN</td>\n",
       "      <td>NaN</td>\n",
       "      <td>NaN</td>\n",
       "      <td>NaN</td>\n",
       "      <td>NaN</td>\n",
       "      <td>NaN</td>\n",
       "    </tr>\n",
       "    <tr>\n",
       "      <th>140036</th>\n",
       "      <td>NaN</td>\n",
       "      <td>NaN</td>\n",
       "      <td>NaN</td>\n",
       "      <td>NaN</td>\n",
       "      <td>NaN</td>\n",
       "      <td>NaN</td>\n",
       "      <td>NaN</td>\n",
       "      <td>NaN</td>\n",
       "      <td>NaN</td>\n",
       "      <td>NaN</td>\n",
       "      <td>...</td>\n",
       "      <td>NaN</td>\n",
       "      <td>NaN</td>\n",
       "      <td>NaN</td>\n",
       "      <td>NaN</td>\n",
       "      <td>NaN</td>\n",
       "      <td>NaN</td>\n",
       "      <td>NaN</td>\n",
       "      <td>NaN</td>\n",
       "      <td>NaN</td>\n",
       "      <td>NaN</td>\n",
       "    </tr>\n",
       "    <tr>\n",
       "      <th>198711</th>\n",
       "      <td>NaN</td>\n",
       "      <td>NaN</td>\n",
       "      <td>NaN</td>\n",
       "      <td>NaN</td>\n",
       "      <td>NaN</td>\n",
       "      <td>NaN</td>\n",
       "      <td>NaN</td>\n",
       "      <td>NaN</td>\n",
       "      <td>NaN</td>\n",
       "      <td>NaN</td>\n",
       "      <td>...</td>\n",
       "      <td>NaN</td>\n",
       "      <td>NaN</td>\n",
       "      <td>NaN</td>\n",
       "      <td>NaN</td>\n",
       "      <td>NaN</td>\n",
       "      <td>NaN</td>\n",
       "      <td>NaN</td>\n",
       "      <td>NaN</td>\n",
       "      <td>NaN</td>\n",
       "      <td>NaN</td>\n",
       "    </tr>\n",
       "    <tr>\n",
       "      <th>232131</th>\n",
       "      <td>NaN</td>\n",
       "      <td>NaN</td>\n",
       "      <td>NaN</td>\n",
       "      <td>NaN</td>\n",
       "      <td>NaN</td>\n",
       "      <td>NaN</td>\n",
       "      <td>NaN</td>\n",
       "      <td>NaN</td>\n",
       "      <td>NaN</td>\n",
       "      <td>NaN</td>\n",
       "      <td>...</td>\n",
       "      <td>NaN</td>\n",
       "      <td>NaN</td>\n",
       "      <td>NaN</td>\n",
       "      <td>NaN</td>\n",
       "      <td>NaN</td>\n",
       "      <td>NaN</td>\n",
       "      <td>NaN</td>\n",
       "      <td>NaN</td>\n",
       "      <td>NaN</td>\n",
       "      <td>NaN</td>\n",
       "    </tr>\n",
       "    <tr>\n",
       "      <th>251422</th>\n",
       "      <td>NaN</td>\n",
       "      <td>NaN</td>\n",
       "      <td>NaN</td>\n",
       "      <td>NaN</td>\n",
       "      <td>NaN</td>\n",
       "      <td>NaN</td>\n",
       "      <td>NaN</td>\n",
       "      <td>NaN</td>\n",
       "      <td>NaN</td>\n",
       "      <td>NaN</td>\n",
       "      <td>...</td>\n",
       "      <td>NaN</td>\n",
       "      <td>NaN</td>\n",
       "      <td>NaN</td>\n",
       "      <td>NaN</td>\n",
       "      <td>NaN</td>\n",
       "      <td>NaN</td>\n",
       "      <td>NaN</td>\n",
       "      <td>NaN</td>\n",
       "      <td>NaN</td>\n",
       "      <td>NaN</td>\n",
       "    </tr>\n",
       "  </tbody>\n",
       "</table>\n",
       "<p>10 rows × 16162 columns</p>\n",
       "</div>"
      ],
      "text/plain": [
       "isbn    000000000  0002005018  0002251760  0002259001  0002259834  0002558122  \\\n",
       "user                                                                            \n",
       "7346          NaN         NaN         NaN         NaN         NaN         NaN   \n",
       "16795         NaN         NaN         NaN         NaN         NaN         NaN   \n",
       "48046         NaN         NaN         NaN         NaN         NaN         NaN   \n",
       "68555         NaN         NaN         NaN         NaN         NaN         NaN   \n",
       "82893         NaN         NaN         NaN         NaN         NaN         NaN   \n",
       "87555         NaN         NaN         NaN         NaN         NaN         NaN   \n",
       "140036        NaN         NaN         NaN         NaN         NaN         NaN   \n",
       "198711        NaN         NaN         NaN         NaN         NaN         NaN   \n",
       "232131        NaN         NaN         NaN         NaN         NaN         NaN   \n",
       "251422        NaN         NaN         NaN         NaN         NaN         NaN   \n",
       "\n",
       "isbn    0006172768  0006374921  0006475973  0006479286     ...      \\\n",
       "user                                                       ...       \n",
       "7346           NaN         NaN         NaN         NaN     ...       \n",
       "16795          NaN         NaN         NaN         NaN     ...       \n",
       "48046          NaN         NaN         NaN         NaN     ...       \n",
       "68555          NaN         NaN         NaN         NaN     ...       \n",
       "82893          NaN         NaN         NaN         NaN     ...       \n",
       "87555          NaN         NaN         NaN         NaN     ...       \n",
       "140036         NaN         NaN         NaN         NaN     ...       \n",
       "198711         NaN         NaN         NaN         NaN     ...       \n",
       "232131         NaN         NaN         NaN         NaN     ...       \n",
       "251422         NaN         NaN         NaN         NaN     ...       \n",
       "\n",
       "isbn    9722015184  9722020609  9722319345  9724113361  9726106141  \\\n",
       "user                                                                 \n",
       "7346           NaN         NaN         NaN         NaN         NaN   \n",
       "16795          NaN         NaN         NaN         NaN         NaN   \n",
       "48046          NaN         NaN         NaN         NaN         NaN   \n",
       "68555          NaN         NaN         NaN         NaN         NaN   \n",
       "82893          NaN         NaN         NaN         NaN         NaN   \n",
       "87555          NaN         NaN         NaN         NaN         NaN   \n",
       "140036         NaN         NaN         NaN         NaN         NaN   \n",
       "198711         NaN         NaN         NaN         NaN         NaN   \n",
       "232131         NaN         NaN         NaN         NaN         NaN   \n",
       "251422         NaN         NaN         NaN         NaN         NaN   \n",
       "\n",
       "isbn    9726116902  9727591965  9727722458  9770390107900  9871138016  \n",
       "user                                                                   \n",
       "7346           NaN         NaN         NaN            NaN         NaN  \n",
       "16795          NaN         NaN         NaN            NaN         NaN  \n",
       "48046          NaN         NaN         NaN            NaN         NaN  \n",
       "68555          NaN         NaN         NaN            NaN         NaN  \n",
       "82893          NaN         NaN         NaN            NaN         NaN  \n",
       "87555          NaN         NaN         NaN            NaN         NaN  \n",
       "140036         NaN         NaN         NaN            NaN         NaN  \n",
       "198711         NaN         NaN         NaN            NaN         NaN  \n",
       "232131         NaN         NaN         NaN            NaN         NaN  \n",
       "251422         NaN         NaN         NaN            NaN         NaN  \n",
       "\n",
       "[10 rows x 16162 columns]"
      ]
     },
     "execution_count": 83,
     "metadata": {},
     "output_type": "execute_result"
    }
   ],
   "source": [
    "# Get the ratings of the nns for all books\n",
    "NNRatings = userItemRatingMatrix[userItemRatingMatrix.index.isin(KnearestUsers)]\n",
    "NNRatings"
   ]
  },
  {
   "cell_type": "code",
   "execution_count": null,
   "metadata": {
    "collapsed": true
   },
   "outputs": [],
   "source": [
    "NNRatings.apply"
   ]
  }
 ],
 "metadata": {
  "kernelspec": {
   "display_name": "Python 3",
   "language": "python",
   "name": "python3"
  },
  "language_info": {
   "codemirror_mode": {
    "name": "ipython",
    "version": 3
   },
   "file_extension": ".py",
   "mimetype": "text/x-python",
   "name": "python",
   "nbconvert_exporter": "python",
   "pygments_lexer": "ipython3",
   "version": "3.6.3"
  }
 },
 "nbformat": 4,
 "nbformat_minor": 2
}
